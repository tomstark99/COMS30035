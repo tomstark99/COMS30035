{
 "cells": [
  {
   "cell_type": "markdown",
   "metadata": {},
   "source": [
    "# Lab 7: Decision Trees and Ensemble Methods\n",
    "\n",
    "This week we will explore the use of decision trees for simple classification tasks. We will then look at how collections of decision trees (or other machine learning models) can be trained on the same dataset and combined to enhance predictive performance. Specifically, we will look at bagging, random forests and boosting which are all related examples of ensemble methods.\n",
    "\n",
    "Before starting, make sure to install the `graphviz` package using `conda install python-graphviz`. "
   ]
  },
  {
   "cell_type": "code",
   "execution_count": 2,
   "metadata": {},
   "outputs": [
    {
     "name": "stdout",
     "output_type": "stream",
     "text": [
      "Populating the interactive namespace from numpy and matplotlib\n"
     ]
    }
   ],
   "source": [
    "%pylab inline\n",
    "\n",
    "import numpy as np\n",
    "import matplotlib.pyplot as plt\n",
    "import sklearn\n",
    "from sklearn import datasets\n",
    "from sklearn.model_selection import train_test_split\n",
    "from sklearn.datasets import fetch_openml\n",
    "\n",
    "from sklearn.tree import DecisionTreeClassifier\n",
    "from sklearn.metrics import accuracy_score\n",
    "\n",
    "import graphviz"
   ]
  },
  {
   "cell_type": "markdown",
   "metadata": {},
   "source": [
    "## 1) Decision Trees\n",
    "\n",
    "Decision trees are a very simple machine learning technique that can be surprisingly powerful and offer a much more easily interpretable decision making process than many other methods. As the name suggests, decision trees are comprised of a set of nodes in a tree structure. All non-terminal nodes are called *decision nodes* which typically have two child nodes and contain a conditional expression involving a single feature of the input data. For a given input, starting at the root node, this condition is evaluated and this determines which of the two child nodes are selected for evaluation next. Once a *leaf node* is reached, the decision tree is able to produce an output class (classification) or a target value (regression). In this lab we will focus on the case of classification tasks.\n",
    "\n",
    "For a given dataset of input-output pairs, there are a number of ways to construct a decision tree that can accurately classify the set of examples. We will be using the implementation of decision trees from the scikit-learn library which uses the CART (Classification And Regression Tree) algorithm with the Gini impurity criterion (see [this](https://victorzhou.com/blog/gini-impurity/) for simple explanation of Gini impurity). This algorithm can be summarised as follows:\n",
    "1. **Obtaining the root node**: Test the possible splits of the dataset using conditions involving each of the input features and measure the Gini impurity of each split. The root node is given by the split that minimises the weighted sum of the Gini impurities of the two branches. The weights are equal to the number of data points that satisfy the condition of the corresponding branch.\n",
    "2. **Creating the remaining decision nodes**: Iteratively follow the same process as step 1 using only the data points that match the conditions necessary to reach this point in the tree.\n",
    "3. **Creating the Leaf nodes**: These nodes are created when one of the stopping criteria is met. This set of criteria includes the case where all points of each class have been completely separated by a split (i.e. when the impurity is 0) or when some maximum depth has been reached."
   ]
  },
  {
   "cell_type": "markdown",
   "metadata": {},
   "source": [
    "### 1.1) Training a Decision Tree Classifier\n",
    "\n",
    "To start off, we will load in a classification dataset from scikit-learn: [the famous iris flower dataset](https://scikit-learn.org/stable/auto_examples/datasets/plot_iris_dataset.html#sphx-glr-auto-examples-datasets-plot-iris-dataset-py), compiled by Ronald Fisher in 1936. This is often used as a toy dataset for machine learning and contains three classes (species of Iris) with a number of named features such as petal length and width. The code below loads in the iris dataset but also includes the code to load in several other datasets that you can test your decision tree or ensemble methods on. These are commented out for now but you may wish to explore them later."
   ]
  },
  {
   "cell_type": "code",
   "execution_count": 17,
   "metadata": {},
   "outputs": [],
   "source": [
    "dataset = datasets.load_iris()\n",
    "#dataset = datasets.load_wine()\n",
    "#dataset = datasets.load_digits()\n",
    "\n",
    "X = np.array(dataset['data'])\n",
    "X_feature_names = dataset['feature_names']\n",
    "y = np.array(dataset['target'])\n",
    "y_target_names = dataset['target_names']\n",
    "\n",
    "# 80% training, and 20% test\n",
    "random.seed(8)\n",
    "X_train, X_test, y_train, y_test = train_test_split(X, y, test_size=0.2) "
   ]
  },
  {
   "cell_type": "markdown",
   "metadata": {},
   "source": [
    "### 1.1) Training a Decision Tree Classifier\n",
    "\n",
    "Use scikit-learn to train a [DecisionTreeClassifier](https://scikit-learn.org/stable/modules/generated/sklearn.tree.DecisionTreeClassifier.html#sklearn.tree.DecisionTreeClassifier), assigning it the variable name `model`, on the Iris dataset and compute its accuracy score on both the training and test set."
   ]
  },
  {
   "cell_type": "code",
   "execution_count": 20,
   "metadata": {},
   "outputs": [
    {
     "data": {
      "text/plain": [
       "(1.0, 0.8666666666666667)"
      ]
     },
     "execution_count": 20,
     "metadata": {},
     "output_type": "execute_result"
    }
   ],
   "source": [
    "# write your code here\n",
    "\n",
    "model = DecisionTreeClassifier().fit(X_train, y_train)\n",
    "\n",
    "model.score(X_train, y_train),model.score(X_test, y_test)"
   ]
  },
  {
   "cell_type": "markdown",
   "metadata": {},
   "source": [
    "Is the model overfitting to the training data?"
   ]
  },
  {
   "cell_type": "markdown",
   "metadata": {},
   "source": [
    "### 1.2) Visualise the tree\n",
    "\n",
    "The code below has been provided to create a visualisation for your decision tree. This cell will also print out a number of examples from the test set along with your tree's predictions to help you understand how the classification is being made. Run the cell and try to answer the questions that follow."
   ]
  },
  {
   "cell_type": "code",
   "execution_count": 9,
   "metadata": {
    "scrolled": false
   },
   "outputs": [
    {
     "data": {
      "image/svg+xml": [
       "<?xml version=\"1.0\" encoding=\"UTF-8\" standalone=\"no\"?>\r\n",
       "<!DOCTYPE svg PUBLIC \"-//W3C//DTD SVG 1.1//EN\"\r\n",
       " \"http://www.w3.org/Graphics/SVG/1.1/DTD/svg11.dtd\">\r\n",
       "<!-- Generated by graphviz version 2.38.0 (20140413.2041)\r\n",
       " -->\r\n",
       "<!-- Title: Tree Pages: 1 -->\r\n",
       "<svg width=\"884pt\" height=\"671pt\"\r\n",
       " viewBox=\"0.00 0.00 884.00 671.00\" xmlns=\"http://www.w3.org/2000/svg\" xmlns:xlink=\"http://www.w3.org/1999/xlink\">\r\n",
       "<g id=\"graph0\" class=\"graph\" transform=\"scale(1 1) rotate(0) translate(4 667)\">\r\n",
       "<title>Tree</title>\r\n",
       "<polygon fill=\"white\" stroke=\"none\" points=\"-4,4 -4,-667 880,-667 880,4 -4,4\"/>\r\n",
       "<!-- 0 -->\r\n",
       "<g id=\"node1\" class=\"node\"><title>0</title>\r\n",
       "<path fill=\"#ffffff\" stroke=\"black\" d=\"M528,-663C528,-663 401,-663 401,-663 395,-663 389,-657 389,-651 389,-651 389,-592 389,-592 389,-586 395,-580 401,-580 401,-580 528,-580 528,-580 534,-580 540,-586 540,-592 540,-592 540,-651 540,-651 540,-657 534,-663 528,-663\"/>\r\n",
       "<text text-anchor=\"start\" x=\"397\" y=\"-647.8\" font-family=\"Helvetica,sans-Serif\" font-size=\"14.00\">petal width (cm) ≤ 0.8</text>\r\n",
       "<text text-anchor=\"start\" x=\"427\" y=\"-632.8\" font-family=\"Helvetica,sans-Serif\" font-size=\"14.00\">gini = 0.667</text>\r\n",
       "<text text-anchor=\"start\" x=\"417\" y=\"-617.8\" font-family=\"Helvetica,sans-Serif\" font-size=\"14.00\">samples = 150</text>\r\n",
       "<text text-anchor=\"start\" x=\"404\" y=\"-602.8\" font-family=\"Helvetica,sans-Serif\" font-size=\"14.00\">value = [50, 50, 50]</text>\r\n",
       "<text text-anchor=\"start\" x=\"418.5\" y=\"-587.8\" font-family=\"Helvetica,sans-Serif\" font-size=\"14.00\">class = setosa</text>\r\n",
       "</g>\r\n",
       "<!-- 1 -->\r\n",
       "<g id=\"node2\" class=\"node\"><title>1</title>\r\n",
       "<path fill=\"#e58139\" stroke=\"black\" d=\"M434,-536.5C434,-536.5 337,-536.5 337,-536.5 331,-536.5 325,-530.5 325,-524.5 325,-524.5 325,-480.5 325,-480.5 325,-474.5 331,-468.5 337,-468.5 337,-468.5 434,-468.5 434,-468.5 440,-468.5 446,-474.5 446,-480.5 446,-480.5 446,-524.5 446,-524.5 446,-530.5 440,-536.5 434,-536.5\"/>\r\n",
       "<text text-anchor=\"start\" x=\"356.5\" y=\"-521.3\" font-family=\"Helvetica,sans-Serif\" font-size=\"14.00\">gini = 0.0</text>\r\n",
       "<text text-anchor=\"start\" x=\"342\" y=\"-506.3\" font-family=\"Helvetica,sans-Serif\" font-size=\"14.00\">samples = 50</text>\r\n",
       "<text text-anchor=\"start\" x=\"333\" y=\"-491.3\" font-family=\"Helvetica,sans-Serif\" font-size=\"14.00\">value = [50, 0, 0]</text>\r\n",
       "<text text-anchor=\"start\" x=\"339.5\" y=\"-476.3\" font-family=\"Helvetica,sans-Serif\" font-size=\"14.00\">class = setosa</text>\r\n",
       "</g>\r\n",
       "<!-- 0&#45;&gt;1 -->\r\n",
       "<g id=\"edge1\" class=\"edge\"><title>0&#45;&gt;1</title>\r\n",
       "<path fill=\"none\" stroke=\"black\" d=\"M437.091,-579.907C429.492,-568.652 421.231,-556.418 413.593,-545.106\"/>\r\n",
       "<polygon fill=\"black\" stroke=\"black\" points=\"416.391,-542.996 407.895,-536.667 410.59,-546.913 416.391,-542.996\"/>\r\n",
       "<text text-anchor=\"middle\" x=\"403.136\" y=\"-557.51\" font-family=\"Helvetica,sans-Serif\" font-size=\"14.00\">True</text>\r\n",
       "</g>\r\n",
       "<!-- 2 -->\r\n",
       "<g id=\"node3\" class=\"node\"><title>2</title>\r\n",
       "<path fill=\"#ffffff\" stroke=\"black\" d=\"M611,-544C611,-544 476,-544 476,-544 470,-544 464,-538 464,-532 464,-532 464,-473 464,-473 464,-467 470,-461 476,-461 476,-461 611,-461 611,-461 617,-461 623,-467 623,-473 623,-473 623,-532 623,-532 623,-538 617,-544 611,-544\"/>\r\n",
       "<text text-anchor=\"start\" x=\"472\" y=\"-528.8\" font-family=\"Helvetica,sans-Serif\" font-size=\"14.00\">petal width (cm) ≤ 1.75</text>\r\n",
       "<text text-anchor=\"start\" x=\"514.5\" y=\"-513.8\" font-family=\"Helvetica,sans-Serif\" font-size=\"14.00\">gini = 0.5</text>\r\n",
       "<text text-anchor=\"start\" x=\"496\" y=\"-498.8\" font-family=\"Helvetica,sans-Serif\" font-size=\"14.00\">samples = 100</text>\r\n",
       "<text text-anchor=\"start\" x=\"487\" y=\"-483.8\" font-family=\"Helvetica,sans-Serif\" font-size=\"14.00\">value = [0, 50, 50]</text>\r\n",
       "<text text-anchor=\"start\" x=\"488\" y=\"-468.8\" font-family=\"Helvetica,sans-Serif\" font-size=\"14.00\">class = versicolor</text>\r\n",
       "</g>\r\n",
       "<!-- 0&#45;&gt;2 -->\r\n",
       "<g id=\"edge2\" class=\"edge\"><title>0&#45;&gt;2</title>\r\n",
       "<path fill=\"none\" stroke=\"black\" d=\"M491.909,-579.907C497.914,-571.014 504.331,-561.509 510.529,-552.331\"/>\r\n",
       "<polygon fill=\"black\" stroke=\"black\" points=\"513.444,-554.267 516.14,-544.021 507.643,-550.35 513.444,-554.267\"/>\r\n",
       "<text text-anchor=\"middle\" x=\"520.898\" y=\"-564.864\" font-family=\"Helvetica,sans-Serif\" font-size=\"14.00\">False</text>\r\n",
       "</g>\r\n",
       "<!-- 3 -->\r\n",
       "<g id=\"node4\" class=\"node\"><title>3</title>\r\n",
       "<path fill=\"#4de88e\" stroke=\"black\" d=\"M499,-425C499,-425 358,-425 358,-425 352,-425 346,-419 346,-413 346,-413 346,-354 346,-354 346,-348 352,-342 358,-342 358,-342 499,-342 499,-342 505,-342 511,-348 511,-354 511,-354 511,-413 511,-413 511,-419 505,-425 499,-425\"/>\r\n",
       "<text text-anchor=\"start\" x=\"354\" y=\"-409.8\" font-family=\"Helvetica,sans-Serif\" font-size=\"14.00\">petal length (cm) ≤ 4.95</text>\r\n",
       "<text text-anchor=\"start\" x=\"391\" y=\"-394.8\" font-family=\"Helvetica,sans-Serif\" font-size=\"14.00\">gini = 0.168</text>\r\n",
       "<text text-anchor=\"start\" x=\"385\" y=\"-379.8\" font-family=\"Helvetica,sans-Serif\" font-size=\"14.00\">samples = 54</text>\r\n",
       "<text text-anchor=\"start\" x=\"376\" y=\"-364.8\" font-family=\"Helvetica,sans-Serif\" font-size=\"14.00\">value = [0, 49, 5]</text>\r\n",
       "<text text-anchor=\"start\" x=\"373\" y=\"-349.8\" font-family=\"Helvetica,sans-Serif\" font-size=\"14.00\">class = versicolor</text>\r\n",
       "</g>\r\n",
       "<!-- 2&#45;&gt;3 -->\r\n",
       "<g id=\"edge3\" class=\"edge\"><title>2&#45;&gt;3</title>\r\n",
       "<path fill=\"none\" stroke=\"black\" d=\"M503.601,-460.907C494.503,-451.651 484.754,-441.732 475.393,-432.209\"/>\r\n",
       "<polygon fill=\"black\" stroke=\"black\" points=\"477.834,-429.699 468.328,-425.021 472.842,-434.606 477.834,-429.699\"/>\r\n",
       "</g>\r\n",
       "<!-- 12 -->\r\n",
       "<g id=\"node13\" class=\"node\"><title>12</title>\r\n",
       "<path fill=\"#843de6\" stroke=\"black\" d=\"M730,-425C730,-425 589,-425 589,-425 583,-425 577,-419 577,-413 577,-413 577,-354 577,-354 577,-348 583,-342 589,-342 589,-342 730,-342 730,-342 736,-342 742,-348 742,-354 742,-354 742,-413 742,-413 742,-419 736,-425 730,-425\"/>\r\n",
       "<text text-anchor=\"start\" x=\"585\" y=\"-409.8\" font-family=\"Helvetica,sans-Serif\" font-size=\"14.00\">petal length (cm) ≤ 4.85</text>\r\n",
       "<text text-anchor=\"start\" x=\"622\" y=\"-394.8\" font-family=\"Helvetica,sans-Serif\" font-size=\"14.00\">gini = 0.043</text>\r\n",
       "<text text-anchor=\"start\" x=\"616\" y=\"-379.8\" font-family=\"Helvetica,sans-Serif\" font-size=\"14.00\">samples = 46</text>\r\n",
       "<text text-anchor=\"start\" x=\"607\" y=\"-364.8\" font-family=\"Helvetica,sans-Serif\" font-size=\"14.00\">value = [0, 1, 45]</text>\r\n",
       "<text text-anchor=\"start\" x=\"609.5\" y=\"-349.8\" font-family=\"Helvetica,sans-Serif\" font-size=\"14.00\">class = virginica</text>\r\n",
       "</g>\r\n",
       "<!-- 2&#45;&gt;12 -->\r\n",
       "<g id=\"edge12\" class=\"edge\"><title>2&#45;&gt;12</title>\r\n",
       "<path fill=\"none\" stroke=\"black\" d=\"M583.746,-460.907C592.923,-451.651 602.757,-441.732 612.199,-432.209\"/>\r\n",
       "<polygon fill=\"black\" stroke=\"black\" points=\"614.77,-434.586 619.326,-425.021 609.799,-429.658 614.77,-434.586\"/>\r\n",
       "</g>\r\n",
       "<!-- 4 -->\r\n",
       "<g id=\"node5\" class=\"node\"><title>4</title>\r\n",
       "<path fill=\"#3de684\" stroke=\"black\" d=\"M271,-306C271,-306 136,-306 136,-306 130,-306 124,-300 124,-294 124,-294 124,-235 124,-235 124,-229 130,-223 136,-223 136,-223 271,-223 271,-223 277,-223 283,-229 283,-235 283,-235 283,-294 283,-294 283,-300 277,-306 271,-306\"/>\r\n",
       "<text text-anchor=\"start\" x=\"132\" y=\"-290.8\" font-family=\"Helvetica,sans-Serif\" font-size=\"14.00\">petal width (cm) ≤ 1.65</text>\r\n",
       "<text text-anchor=\"start\" x=\"166\" y=\"-275.8\" font-family=\"Helvetica,sans-Serif\" font-size=\"14.00\">gini = 0.041</text>\r\n",
       "<text text-anchor=\"start\" x=\"160\" y=\"-260.8\" font-family=\"Helvetica,sans-Serif\" font-size=\"14.00\">samples = 48</text>\r\n",
       "<text text-anchor=\"start\" x=\"151\" y=\"-245.8\" font-family=\"Helvetica,sans-Serif\" font-size=\"14.00\">value = [0, 47, 1]</text>\r\n",
       "<text text-anchor=\"start\" x=\"148\" y=\"-230.8\" font-family=\"Helvetica,sans-Serif\" font-size=\"14.00\">class = versicolor</text>\r\n",
       "</g>\r\n",
       "<!-- 3&#45;&gt;4 -->\r\n",
       "<g id=\"edge4\" class=\"edge\"><title>3&#45;&gt;4</title>\r\n",
       "<path fill=\"none\" stroke=\"black\" d=\"M350.437,-341.907C331.066,-331.834 310.186,-320.977 290.419,-310.698\"/>\r\n",
       "<polygon fill=\"black\" stroke=\"black\" points=\"291.912,-307.529 281.425,-306.021 288.682,-313.74 291.912,-307.529\"/>\r\n",
       "</g>\r\n",
       "<!-- 7 -->\r\n",
       "<g id=\"node8\" class=\"node\"><title>7</title>\r\n",
       "<path fill=\"#c09cf2\" stroke=\"black\" d=\"M496,-306C496,-306 361,-306 361,-306 355,-306 349,-300 349,-294 349,-294 349,-235 349,-235 349,-229 355,-223 361,-223 361,-223 496,-223 496,-223 502,-223 508,-229 508,-235 508,-235 508,-294 508,-294 508,-300 502,-306 496,-306\"/>\r\n",
       "<text text-anchor=\"start\" x=\"357\" y=\"-290.8\" font-family=\"Helvetica,sans-Serif\" font-size=\"14.00\">petal width (cm) ≤ 1.55</text>\r\n",
       "<text text-anchor=\"start\" x=\"391\" y=\"-275.8\" font-family=\"Helvetica,sans-Serif\" font-size=\"14.00\">gini = 0.444</text>\r\n",
       "<text text-anchor=\"start\" x=\"389\" y=\"-260.8\" font-family=\"Helvetica,sans-Serif\" font-size=\"14.00\">samples = 6</text>\r\n",
       "<text text-anchor=\"start\" x=\"380\" y=\"-245.8\" font-family=\"Helvetica,sans-Serif\" font-size=\"14.00\">value = [0, 2, 4]</text>\r\n",
       "<text text-anchor=\"start\" x=\"378.5\" y=\"-230.8\" font-family=\"Helvetica,sans-Serif\" font-size=\"14.00\">class = virginica</text>\r\n",
       "</g>\r\n",
       "<!-- 3&#45;&gt;7 -->\r\n",
       "<g id=\"edge7\" class=\"edge\"><title>3&#45;&gt;7</title>\r\n",
       "<path fill=\"none\" stroke=\"black\" d=\"M428.5,-341.907C428.5,-333.649 428.5,-324.864 428.5,-316.302\"/>\r\n",
       "<polygon fill=\"black\" stroke=\"black\" points=\"432,-316.021 428.5,-306.021 425,-316.021 432,-316.021\"/>\r\n",
       "</g>\r\n",
       "<!-- 5 -->\r\n",
       "<g id=\"node6\" class=\"node\"><title>5</title>\r\n",
       "<path fill=\"#39e581\" stroke=\"black\" d=\"M115,-179.5C115,-179.5 12,-179.5 12,-179.5 6,-179.5 -7.10543e-015,-173.5 -7.10543e-015,-167.5 -7.10543e-015,-167.5 -7.10543e-015,-123.5 -7.10543e-015,-123.5 -7.10543e-015,-117.5 6,-111.5 12,-111.5 12,-111.5 115,-111.5 115,-111.5 121,-111.5 127,-117.5 127,-123.5 127,-123.5 127,-167.5 127,-167.5 127,-173.5 121,-179.5 115,-179.5\"/>\r\n",
       "<text text-anchor=\"start\" x=\"34.5\" y=\"-164.3\" font-family=\"Helvetica,sans-Serif\" font-size=\"14.00\">gini = 0.0</text>\r\n",
       "<text text-anchor=\"start\" x=\"20\" y=\"-149.3\" font-family=\"Helvetica,sans-Serif\" font-size=\"14.00\">samples = 47</text>\r\n",
       "<text text-anchor=\"start\" x=\"11\" y=\"-134.3\" font-family=\"Helvetica,sans-Serif\" font-size=\"14.00\">value = [0, 47, 0]</text>\r\n",
       "<text text-anchor=\"start\" x=\"8\" y=\"-119.3\" font-family=\"Helvetica,sans-Serif\" font-size=\"14.00\">class = versicolor</text>\r\n",
       "</g>\r\n",
       "<!-- 4&#45;&gt;5 -->\r\n",
       "<g id=\"edge5\" class=\"edge\"><title>4&#45;&gt;5</title>\r\n",
       "<path fill=\"none\" stroke=\"black\" d=\"M154.928,-222.907C140.668,-210.99 125.095,-197.976 110.908,-186.12\"/>\r\n",
       "<polygon fill=\"black\" stroke=\"black\" points=\"113.105,-183.394 103.187,-179.667 108.616,-188.765 113.105,-183.394\"/>\r\n",
       "</g>\r\n",
       "<!-- 6 -->\r\n",
       "<g id=\"node7\" class=\"node\"><title>6</title>\r\n",
       "<path fill=\"#8139e5\" stroke=\"black\" d=\"M249.5,-179.5C249.5,-179.5 157.5,-179.5 157.5,-179.5 151.5,-179.5 145.5,-173.5 145.5,-167.5 145.5,-167.5 145.5,-123.5 145.5,-123.5 145.5,-117.5 151.5,-111.5 157.5,-111.5 157.5,-111.5 249.5,-111.5 249.5,-111.5 255.5,-111.5 261.5,-117.5 261.5,-123.5 261.5,-123.5 261.5,-167.5 261.5,-167.5 261.5,-173.5 255.5,-179.5 249.5,-179.5\"/>\r\n",
       "<text text-anchor=\"start\" x=\"174.5\" y=\"-164.3\" font-family=\"Helvetica,sans-Serif\" font-size=\"14.00\">gini = 0.0</text>\r\n",
       "<text text-anchor=\"start\" x=\"164\" y=\"-149.3\" font-family=\"Helvetica,sans-Serif\" font-size=\"14.00\">samples = 1</text>\r\n",
       "<text text-anchor=\"start\" x=\"155\" y=\"-134.3\" font-family=\"Helvetica,sans-Serif\" font-size=\"14.00\">value = [0, 0, 1]</text>\r\n",
       "<text text-anchor=\"start\" x=\"153.5\" y=\"-119.3\" font-family=\"Helvetica,sans-Serif\" font-size=\"14.00\">class = virginica</text>\r\n",
       "</g>\r\n",
       "<!-- 4&#45;&gt;6 -->\r\n",
       "<g id=\"edge6\" class=\"edge\"><title>4&#45;&gt;6</title>\r\n",
       "<path fill=\"none\" stroke=\"black\" d=\"M203.5,-222.907C203.5,-212.204 203.5,-200.615 203.5,-189.776\"/>\r\n",
       "<polygon fill=\"black\" stroke=\"black\" points=\"207,-189.667 203.5,-179.667 200,-189.667 207,-189.667\"/>\r\n",
       "</g>\r\n",
       "<!-- 8 -->\r\n",
       "<g id=\"node9\" class=\"node\"><title>8</title>\r\n",
       "<path fill=\"#8139e5\" stroke=\"black\" d=\"M383.5,-179.5C383.5,-179.5 291.5,-179.5 291.5,-179.5 285.5,-179.5 279.5,-173.5 279.5,-167.5 279.5,-167.5 279.5,-123.5 279.5,-123.5 279.5,-117.5 285.5,-111.5 291.5,-111.5 291.5,-111.5 383.5,-111.5 383.5,-111.5 389.5,-111.5 395.5,-117.5 395.5,-123.5 395.5,-123.5 395.5,-167.5 395.5,-167.5 395.5,-173.5 389.5,-179.5 383.5,-179.5\"/>\r\n",
       "<text text-anchor=\"start\" x=\"308.5\" y=\"-164.3\" font-family=\"Helvetica,sans-Serif\" font-size=\"14.00\">gini = 0.0</text>\r\n",
       "<text text-anchor=\"start\" x=\"298\" y=\"-149.3\" font-family=\"Helvetica,sans-Serif\" font-size=\"14.00\">samples = 3</text>\r\n",
       "<text text-anchor=\"start\" x=\"289\" y=\"-134.3\" font-family=\"Helvetica,sans-Serif\" font-size=\"14.00\">value = [0, 0, 3]</text>\r\n",
       "<text text-anchor=\"start\" x=\"287.5\" y=\"-119.3\" font-family=\"Helvetica,sans-Serif\" font-size=\"14.00\">class = virginica</text>\r\n",
       "</g>\r\n",
       "<!-- 7&#45;&gt;8 -->\r\n",
       "<g id=\"edge8\" class=\"edge\"><title>7&#45;&gt;8</title>\r\n",
       "<path fill=\"none\" stroke=\"black\" d=\"M396.928,-222.907C388.088,-211.542 378.472,-199.178 369.602,-187.774\"/>\r\n",
       "<polygon fill=\"black\" stroke=\"black\" points=\"372.199,-185.412 363.297,-179.667 366.673,-189.709 372.199,-185.412\"/>\r\n",
       "</g>\r\n",
       "<!-- 9 -->\r\n",
       "<g id=\"node10\" class=\"node\"><title>9</title>\r\n",
       "<path fill=\"#9cf2c0\" stroke=\"black\" d=\"M571,-187C571,-187 426,-187 426,-187 420,-187 414,-181 414,-175 414,-175 414,-116 414,-116 414,-110 420,-104 426,-104 426,-104 571,-104 571,-104 577,-104 583,-110 583,-116 583,-116 583,-175 583,-175 583,-181 577,-187 571,-187\"/>\r\n",
       "<text text-anchor=\"start\" x=\"422\" y=\"-171.8\" font-family=\"Helvetica,sans-Serif\" font-size=\"14.00\">sepal length (cm) ≤ 6.95</text>\r\n",
       "<text text-anchor=\"start\" x=\"461\" y=\"-156.8\" font-family=\"Helvetica,sans-Serif\" font-size=\"14.00\">gini = 0.444</text>\r\n",
       "<text text-anchor=\"start\" x=\"459\" y=\"-141.8\" font-family=\"Helvetica,sans-Serif\" font-size=\"14.00\">samples = 3</text>\r\n",
       "<text text-anchor=\"start\" x=\"450\" y=\"-126.8\" font-family=\"Helvetica,sans-Serif\" font-size=\"14.00\">value = [0, 2, 1]</text>\r\n",
       "<text text-anchor=\"start\" x=\"443\" y=\"-111.8\" font-family=\"Helvetica,sans-Serif\" font-size=\"14.00\">class = versicolor</text>\r\n",
       "</g>\r\n",
       "<!-- 7&#45;&gt;9 -->\r\n",
       "<g id=\"edge9\" class=\"edge\"><title>7&#45;&gt;9</title>\r\n",
       "<path fill=\"none\" stroke=\"black\" d=\"M452.786,-222.907C458.053,-214.105 463.678,-204.703 469.117,-195.612\"/>\r\n",
       "<polygon fill=\"black\" stroke=\"black\" points=\"472.126,-197.399 474.257,-187.021 466.119,-193.805 472.126,-197.399\"/>\r\n",
       "</g>\r\n",
       "<!-- 10 -->\r\n",
       "<g id=\"node11\" class=\"node\"><title>10</title>\r\n",
       "<path fill=\"#39e581\" stroke=\"black\" d=\"M480,-68C480,-68 377,-68 377,-68 371,-68 365,-62 365,-56 365,-56 365,-12 365,-12 365,-6 371,-0 377,-0 377,-0 480,-0 480,-0 486,-0 492,-6 492,-12 492,-12 492,-56 492,-56 492,-62 486,-68 480,-68\"/>\r\n",
       "<text text-anchor=\"start\" x=\"399.5\" y=\"-52.8\" font-family=\"Helvetica,sans-Serif\" font-size=\"14.00\">gini = 0.0</text>\r\n",
       "<text text-anchor=\"start\" x=\"389\" y=\"-37.8\" font-family=\"Helvetica,sans-Serif\" font-size=\"14.00\">samples = 2</text>\r\n",
       "<text text-anchor=\"start\" x=\"380\" y=\"-22.8\" font-family=\"Helvetica,sans-Serif\" font-size=\"14.00\">value = [0, 2, 0]</text>\r\n",
       "<text text-anchor=\"start\" x=\"373\" y=\"-7.8\" font-family=\"Helvetica,sans-Serif\" font-size=\"14.00\">class = versicolor</text>\r\n",
       "</g>\r\n",
       "<!-- 9&#45;&gt;10 -->\r\n",
       "<g id=\"edge10\" class=\"edge\"><title>9&#45;&gt;10</title>\r\n",
       "<path fill=\"none\" stroke=\"black\" d=\"M472.435,-103.726C466.837,-94.9703 460.913,-85.7032 455.289,-76.9051\"/>\r\n",
       "<polygon fill=\"black\" stroke=\"black\" points=\"458.123,-74.8399 449.787,-68.2996 452.225,-78.6103 458.123,-74.8399\"/>\r\n",
       "</g>\r\n",
       "<!-- 11 -->\r\n",
       "<g id=\"node12\" class=\"node\"><title>11</title>\r\n",
       "<path fill=\"#8139e5\" stroke=\"black\" d=\"M614.5,-68C614.5,-68 522.5,-68 522.5,-68 516.5,-68 510.5,-62 510.5,-56 510.5,-56 510.5,-12 510.5,-12 510.5,-6 516.5,-0 522.5,-0 522.5,-0 614.5,-0 614.5,-0 620.5,-0 626.5,-6 626.5,-12 626.5,-12 626.5,-56 626.5,-56 626.5,-62 620.5,-68 614.5,-68\"/>\r\n",
       "<text text-anchor=\"start\" x=\"539.5\" y=\"-52.8\" font-family=\"Helvetica,sans-Serif\" font-size=\"14.00\">gini = 0.0</text>\r\n",
       "<text text-anchor=\"start\" x=\"529\" y=\"-37.8\" font-family=\"Helvetica,sans-Serif\" font-size=\"14.00\">samples = 1</text>\r\n",
       "<text text-anchor=\"start\" x=\"520\" y=\"-22.8\" font-family=\"Helvetica,sans-Serif\" font-size=\"14.00\">value = [0, 0, 1]</text>\r\n",
       "<text text-anchor=\"start\" x=\"518.5\" y=\"-7.8\" font-family=\"Helvetica,sans-Serif\" font-size=\"14.00\">class = virginica</text>\r\n",
       "</g>\r\n",
       "<!-- 9&#45;&gt;11 -->\r\n",
       "<g id=\"edge11\" class=\"edge\"><title>9&#45;&gt;11</title>\r\n",
       "<path fill=\"none\" stroke=\"black\" d=\"M524.565,-103.726C530.163,-94.9703 536.087,-85.7032 541.711,-76.9051\"/>\r\n",
       "<polygon fill=\"black\" stroke=\"black\" points=\"544.775,-78.6103 547.213,-68.2996 538.877,-74.8399 544.775,-78.6103\"/>\r\n",
       "</g>\r\n",
       "<!-- 13 -->\r\n",
       "<g id=\"node14\" class=\"node\"><title>13</title>\r\n",
       "<path fill=\"#c09cf2\" stroke=\"black\" d=\"M725,-306C725,-306 594,-306 594,-306 588,-306 582,-300 582,-294 582,-294 582,-235 582,-235 582,-229 588,-223 594,-223 594,-223 725,-223 725,-223 731,-223 737,-229 737,-235 737,-235 737,-294 737,-294 737,-300 731,-306 725,-306\"/>\r\n",
       "<text text-anchor=\"start\" x=\"590\" y=\"-290.8\" font-family=\"Helvetica,sans-Serif\" font-size=\"14.00\">sepal width (cm) ≤ 3.1</text>\r\n",
       "<text text-anchor=\"start\" x=\"622\" y=\"-275.8\" font-family=\"Helvetica,sans-Serif\" font-size=\"14.00\">gini = 0.444</text>\r\n",
       "<text text-anchor=\"start\" x=\"620\" y=\"-260.8\" font-family=\"Helvetica,sans-Serif\" font-size=\"14.00\">samples = 3</text>\r\n",
       "<text text-anchor=\"start\" x=\"611\" y=\"-245.8\" font-family=\"Helvetica,sans-Serif\" font-size=\"14.00\">value = [0, 1, 2]</text>\r\n",
       "<text text-anchor=\"start\" x=\"609.5\" y=\"-230.8\" font-family=\"Helvetica,sans-Serif\" font-size=\"14.00\">class = virginica</text>\r\n",
       "</g>\r\n",
       "<!-- 12&#45;&gt;13 -->\r\n",
       "<g id=\"edge13\" class=\"edge\"><title>12&#45;&gt;13</title>\r\n",
       "<path fill=\"none\" stroke=\"black\" d=\"M659.5,-341.907C659.5,-333.649 659.5,-324.864 659.5,-316.302\"/>\r\n",
       "<polygon fill=\"black\" stroke=\"black\" points=\"663,-316.021 659.5,-306.021 656,-316.021 663,-316.021\"/>\r\n",
       "</g>\r\n",
       "<!-- 16 -->\r\n",
       "<g id=\"node17\" class=\"node\"><title>16</title>\r\n",
       "<path fill=\"#8139e5\" stroke=\"black\" d=\"M864,-298.5C864,-298.5 767,-298.5 767,-298.5 761,-298.5 755,-292.5 755,-286.5 755,-286.5 755,-242.5 755,-242.5 755,-236.5 761,-230.5 767,-230.5 767,-230.5 864,-230.5 864,-230.5 870,-230.5 876,-236.5 876,-242.5 876,-242.5 876,-286.5 876,-286.5 876,-292.5 870,-298.5 864,-298.5\"/>\r\n",
       "<text text-anchor=\"start\" x=\"786.5\" y=\"-283.3\" font-family=\"Helvetica,sans-Serif\" font-size=\"14.00\">gini = 0.0</text>\r\n",
       "<text text-anchor=\"start\" x=\"772\" y=\"-268.3\" font-family=\"Helvetica,sans-Serif\" font-size=\"14.00\">samples = 43</text>\r\n",
       "<text text-anchor=\"start\" x=\"763\" y=\"-253.3\" font-family=\"Helvetica,sans-Serif\" font-size=\"14.00\">value = [0, 0, 43]</text>\r\n",
       "<text text-anchor=\"start\" x=\"765.5\" y=\"-238.3\" font-family=\"Helvetica,sans-Serif\" font-size=\"14.00\">class = virginica</text>\r\n",
       "</g>\r\n",
       "<!-- 12&#45;&gt;16 -->\r\n",
       "<g id=\"edge16\" class=\"edge\"><title>12&#45;&gt;16</title>\r\n",
       "<path fill=\"none\" stroke=\"black\" d=\"M713.623,-341.907C729.66,-329.88 747.187,-316.735 763.112,-304.791\"/>\r\n",
       "<polygon fill=\"black\" stroke=\"black\" points=\"765.377,-307.467 771.277,-298.667 761.177,-301.867 765.377,-307.467\"/>\r\n",
       "</g>\r\n",
       "<!-- 14 -->\r\n",
       "<g id=\"node15\" class=\"node\"><title>14</title>\r\n",
       "<path fill=\"#8139e5\" stroke=\"black\" d=\"M705.5,-179.5C705.5,-179.5 613.5,-179.5 613.5,-179.5 607.5,-179.5 601.5,-173.5 601.5,-167.5 601.5,-167.5 601.5,-123.5 601.5,-123.5 601.5,-117.5 607.5,-111.5 613.5,-111.5 613.5,-111.5 705.5,-111.5 705.5,-111.5 711.5,-111.5 717.5,-117.5 717.5,-123.5 717.5,-123.5 717.5,-167.5 717.5,-167.5 717.5,-173.5 711.5,-179.5 705.5,-179.5\"/>\r\n",
       "<text text-anchor=\"start\" x=\"630.5\" y=\"-164.3\" font-family=\"Helvetica,sans-Serif\" font-size=\"14.00\">gini = 0.0</text>\r\n",
       "<text text-anchor=\"start\" x=\"620\" y=\"-149.3\" font-family=\"Helvetica,sans-Serif\" font-size=\"14.00\">samples = 2</text>\r\n",
       "<text text-anchor=\"start\" x=\"611\" y=\"-134.3\" font-family=\"Helvetica,sans-Serif\" font-size=\"14.00\">value = [0, 0, 2]</text>\r\n",
       "<text text-anchor=\"start\" x=\"609.5\" y=\"-119.3\" font-family=\"Helvetica,sans-Serif\" font-size=\"14.00\">class = virginica</text>\r\n",
       "</g>\r\n",
       "<!-- 13&#45;&gt;14 -->\r\n",
       "<g id=\"edge14\" class=\"edge\"><title>13&#45;&gt;14</title>\r\n",
       "<path fill=\"none\" stroke=\"black\" d=\"M659.5,-222.907C659.5,-212.204 659.5,-200.615 659.5,-189.776\"/>\r\n",
       "<polygon fill=\"black\" stroke=\"black\" points=\"663,-189.667 659.5,-179.667 656,-189.667 663,-189.667\"/>\r\n",
       "</g>\r\n",
       "<!-- 15 -->\r\n",
       "<g id=\"node16\" class=\"node\"><title>15</title>\r\n",
       "<path fill=\"#39e581\" stroke=\"black\" d=\"M851,-179.5C851,-179.5 748,-179.5 748,-179.5 742,-179.5 736,-173.5 736,-167.5 736,-167.5 736,-123.5 736,-123.5 736,-117.5 742,-111.5 748,-111.5 748,-111.5 851,-111.5 851,-111.5 857,-111.5 863,-117.5 863,-123.5 863,-123.5 863,-167.5 863,-167.5 863,-173.5 857,-179.5 851,-179.5\"/>\r\n",
       "<text text-anchor=\"start\" x=\"770.5\" y=\"-164.3\" font-family=\"Helvetica,sans-Serif\" font-size=\"14.00\">gini = 0.0</text>\r\n",
       "<text text-anchor=\"start\" x=\"760\" y=\"-149.3\" font-family=\"Helvetica,sans-Serif\" font-size=\"14.00\">samples = 1</text>\r\n",
       "<text text-anchor=\"start\" x=\"751\" y=\"-134.3\" font-family=\"Helvetica,sans-Serif\" font-size=\"14.00\">value = [0, 1, 0]</text>\r\n",
       "<text text-anchor=\"start\" x=\"744\" y=\"-119.3\" font-family=\"Helvetica,sans-Serif\" font-size=\"14.00\">class = versicolor</text>\r\n",
       "</g>\r\n",
       "<!-- 13&#45;&gt;15 -->\r\n",
       "<g id=\"edge15\" class=\"edge\"><title>13&#45;&gt;15</title>\r\n",
       "<path fill=\"none\" stroke=\"black\" d=\"M708.072,-222.907C722.332,-210.99 737.905,-197.976 752.092,-186.12\"/>\r\n",
       "<polygon fill=\"black\" stroke=\"black\" points=\"754.384,-188.765 759.813,-179.667 749.895,-183.394 754.384,-188.765\"/>\r\n",
       "</g>\r\n",
       "</g>\r\n",
       "</svg>\r\n"
      ],
      "text/plain": [
       "<graphviz.files.Source at 0x197c4b04cc8>"
      ]
     },
     "metadata": {},
     "output_type": "display_data"
    },
    {
     "name": "stdout",
     "output_type": "stream",
     "text": [
      "sepal length (cm) | sepal width (cm)  | petal length (cm) | petal width (cm)  | Label             | Prediction\n",
      "--------------------------------------------------------------------------------------------------------------\n",
      "5.0               | 3.6               | 1.4               | 0.2               | setosa            | setosa\n",
      "4.7               | 3.2               | 1.6               | 0.2               | setosa            | setosa\n",
      "5.2               | 3.5               | 1.5               | 0.2               | setosa            | setosa\n",
      "6.9               | 3.1               | 5.1               | 2.3               | virginica         | virginica\n",
      "6.7               | 3.1               | 4.4               | 1.4               | versicolor        | versicolor\n",
      "4.9               | 3.1               | 1.5               | 0.2               | setosa            | setosa\n",
      "5.1               | 3.3               | 1.7               | 0.5               | setosa            | setosa\n",
      "6.7               | 3.0               | 5.2               | 2.3               | virginica         | virginica\n",
      "6.4               | 2.8               | 5.6               | 2.2               | virginica         | virginica\n",
      "6.4               | 2.9               | 4.3               | 1.3               | versicolor        | versicolor\n",
      "6.3               | 3.3               | 4.7               | 1.6               | versicolor        | versicolor\n",
      "4.8               | 3.1               | 1.6               | 0.2               | setosa            | setosa\n",
      "4.9               | 2.5               | 4.5               | 1.7               | virginica         | virginica\n",
      "7.0               | 3.2               | 4.7               | 1.4               | versicolor        | versicolor\n",
      "6.0               | 2.2               | 5.0               | 1.5               | virginica         | virginica\n"
     ]
    }
   ],
   "source": [
    "# Visualise the Decision Tree\n",
    "dot_data = sklearn.tree.export_graphviz(model, out_file=None, feature_names=X_feature_names, class_names=y_target_names, filled=True, rounded=True, special_characters=True)  \n",
    "graph = graphviz.Source(dot_data)\n",
    "graph.render(\"iris\")\n",
    "display(graph)\n",
    "\n",
    "# Print examples from the test dataset\n",
    "wdth = max([len(name) for name in X_feature_names] + [len(lab) for lab in y_target_names]) + 1\n",
    "print('| '.join([f'{X_feature_names[i]: <{wdth}}' for i in range(len(X_feature_names))] + [f'{\"Label\":<{wdth}}', \"Prediction\"]))\n",
    "print('-'*110)\n",
    "predicted_labels = model.predict(X_test)\n",
    "num_examples = 15\n",
    "for example, label, predicted_label in zip(X_test[:num_examples], y_test[:num_examples], predicted_labels[:num_examples]):\n",
    "    print('| '.join([f'{example[i]: <{wdth}}' for i in range(len(example))] + [f'{y_target_names[label]: <{wdth}}', f'{y_target_names[predicted_label]}']))"
   ]
  },
  {
   "cell_type": "markdown",
   "metadata": {},
   "source": [
    "Try to answer the following questions for your tree (note that taking the left path from a decision node corresponds to the condition in that node being true):\n",
    "1. What features are most informative for identifying the Iris Setosa species and what values must they have? \n",
    "2. What features can be used to discriminate between Iris Virginica and Iris Versicolor if the petals less than 1.75cm wide (hint: look at the paths through the decision tree from root to leaf)?\n",
    "3. Choose one of the examples from the data set and follow the path that would be taken by the decision tree to produce a classification.\n",
    "4. If we had more training data, which decision nodes do you think are most likely to change (hint: look at numbers of samples)?\n",
    "5. Which decision nodes do you think may lead to the most errors if we deploy this model on a new test dataset? "
   ]
  },
  {
   "cell_type": "markdown",
   "metadata": {},
   "source": [
    "### 1.3) Train a decision tree for MNIST\n",
    "\n",
    "For the iris dataset, we saw that our classifier was able to perform extremely well because of the dataset's simplicity. In this section, we will try to apply a decision tree to a more challenging dataset, the MNIST handwritten digits (as seen in week 5)."
   ]
  },
  {
   "cell_type": "code",
   "execution_count": 23,
   "metadata": {},
   "outputs": [],
   "source": [
    "# load the MNIST data\n",
    "X_mnist, y_mnist = fetch_openml(name='mnist_784',return_X_y=True)\n",
    "random.seed(5)\n",
    "frac_of_dataset = 0.5\n",
    "index = int(frac_of_dataset*X_mnist.shape[0])\n",
    "X_train, X_test, y_train, y_test = train_test_split(X_mnist[:index,:], y_mnist[:index], test_size=0.2)"
   ]
  },
  {
   "cell_type": "markdown",
   "metadata": {},
   "source": [
    "Just like you did before, create and train a decision tree using scikit-learn and using the variable name `model`."
   ]
  },
  {
   "cell_type": "code",
   "execution_count": 24,
   "metadata": {},
   "outputs": [],
   "source": [
    "# write your code to train a decision tree classifier here\n",
    "\n",
    "model = DecisionTreeClassifier().fit(X_train, y_train)"
   ]
  },
  {
   "cell_type": "markdown",
   "metadata": {},
   "source": [
    "### 1.4) Compute the model's accuracy on MNIST train and test sets \n",
    "\n",
    "Compare the performance on train and test sets."
   ]
  },
  {
   "cell_type": "code",
   "execution_count": 25,
   "metadata": {},
   "outputs": [
    {
     "data": {
      "text/plain": [
       "(1.0, 0.8484285714285714)"
      ]
     },
     "execution_count": 25,
     "metadata": {},
     "output_type": "execute_result"
    }
   ],
   "source": [
    "# write your code here\n",
    "\n",
    "model.score(X_train, y_train),model.score(X_test, y_test)"
   ]
  },
  {
   "cell_type": "markdown",
   "metadata": {},
   "source": [
    "Is the model overfitting on the MNIST data?"
   ]
  },
  {
   "cell_type": "markdown",
   "metadata": {},
   "source": [
    "## 2) Bagging\n",
    "The combination of models can often perform much better than the average individual, and sometimes better than the best individual. Ensemble methods are ways to combine multiple models together. For good performance, the models should be diverse to minimise the expected error of the ensemble.\n",
    "\n",
    "Bagging or 'bootstrap aggregation' is a simple ensemble method that induces diversity by training $M$ models on different samples of the training set (with replacement) and combining predictions by taking the mean or majority vote. An approximate bagging algorithm is:\n",
    "1. For $m = 1,...,M$ models:\n",
    "    - Randomly sample $N$ data points with replacement from the training set\n",
    "    - Learn a decision tree (CART algorithm) on the subset of points\n",
    "2. A prediction can be obtained by taking the majority vote over the $M$ model outputs.\n",
    "\n",
    "### 2.1) Train a bagging ensemble\n",
    "\n",
    "Complete the code below to train a bagging ensemble by randomly sampling from the MNIST training dataset to train multiple decision tress. "
   ]
  },
  {
   "cell_type": "code",
   "execution_count": 47,
   "metadata": {
    "scrolled": true
   },
   "outputs": [
    {
     "name": "stdout",
     "output_type": "stream",
     "text": [
      "0.7131428571428572\n",
      "0.7041428571428572\n",
      "0.7052857142857143\n",
      "0.6931428571428572\n",
      "0.7014285714285714\n",
      "0.7042857142857143\n",
      "0.6882857142857143\n",
      "0.7004285714285714\n",
      "0.6998571428571428\n",
      "0.7112857142857143\n",
      "0.7002857142857143\n",
      "0.7254285714285714\n",
      "0.6864285714285714\n",
      "0.7071428571428572\n",
      "0.7088571428571429\n",
      "0.7082857142857143\n",
      "0.707\n",
      "0.7205714285714285\n",
      "0.7122857142857143\n",
      "0.7014285714285714\n"
     ]
    }
   ],
   "source": [
    "num_models = 20\n",
    "sample_size = 2000  # training set size.\n",
    "np.random.seed(0)\n",
    "\n",
    "all_models = []\n",
    "for m in range(num_models):\n",
    "    # TODO\n",
    "    # Sample with replacement from the training set. \n",
    "    # Each sample should contain sample_size data points chosen at random.\n",
    "    # Hint: look at the documentation for numpy.random.choice().\n",
    "    i = np.random.choice(28000, sample_size, replace=True)\n",
    "    X = X_train[i]\n",
    "    Y = y_train[i]\n",
    "    \n",
    "    # TODO\n",
    "    # train a decision tree classifier on the random sample.\n",
    "    model = DecisionTreeClassifier().fit(X,Y)\n",
    "    print(model.score(X_test,y_test))\n",
    "    all_models.append(model)"
   ]
  },
  {
   "cell_type": "markdown",
   "metadata": {},
   "source": [
    "### 2.2) Implement bagging prediction\n",
    "\n",
    "Complete the `bagging_predict` function and then run the next cell to create predictions from the bagging ensemble based on majority voting of the individual models. "
   ]
  },
  {
   "cell_type": "code",
   "execution_count": 105,
   "metadata": {},
   "outputs": [],
   "source": [
    "# count how many classifiers have voted for each class for each point in the test dataset.\n",
    "def bagging_predict(test_data, all_models):\n",
    "    votes = np.zeros((test_data.shape[0], len(all_models)))  # number of classes = 10.\n",
    "    combined_predictions = np.zeros(test_data.shape[0])\n",
    "#     print(test_data[6].reshape(1,-1))\n",
    "    \n",
    "    for idx, m in enumerate(all_models):\n",
    "        # TODO\n",
    "        # obtain the predictions from model m for the test data and\n",
    "        # populate the votes vector\n",
    "        alie = m.predict(test_data)\n",
    "        votes[:,idx] = alie\n",
    "        \n",
    "    for test_point in range(votes.shape[0]):\n",
    "        # TODO\n",
    "        # determine the class with the most votes for each test point\n",
    "        # and populate the combined_predictions \n",
    "        # hint use np.bincount\n",
    "        combined_predictions[test_point] = argmax(np.bincount(int64(votes[test_point])))\n",
    "    \n",
    "    return combined_predictions"
   ]
  },
  {
   "cell_type": "code",
   "execution_count": 106,
   "metadata": {},
   "outputs": [
    {
     "name": "stdout",
     "output_type": "stream",
     "text": [
      "Test set accuracy: 0.8985714285714286\n"
     ]
    }
   ],
   "source": [
    "prediction = bagging_predict(X_test, all_models)\n",
    "accuracy = np.count_nonzero(prediction==int64(y_test))/y_test.shape[0]\n",
    "print(\"Test set accuracy: {}\".format(accuracy))"
   ]
  },
  {
   "cell_type": "markdown",
   "metadata": {},
   "source": [
    "How does the accuracy compare to a single decision tree? \n",
    "\n",
    "Investigate the effect of changing the `sample_size` and `num_models` hyperparameters."
   ]
  },
  {
   "cell_type": "markdown",
   "metadata": {},
   "source": [
    "## 3) Random Forests\n",
    "With bagging, the base models (individual decision trees) make similar splits on the same features, meaning that their errors are correlated and this reduces the diversity of the ensemble and limits performance.\n",
    "\n",
    "Random forests improve the diversity of the base models by limiting the number of features considered for determining each split in the decision tree. We can obtain the random forest by modifying the bagging algorithm above so that each split for each model uses only a random subset of features.\n",
    "\n",
    "### 3.1) Implement Random Forest Training\n",
    "\n",
    "Copy in your code for the bagging procedure and modify it to implement random forest. The outline code below shows you where to make the modifications."
   ]
  },
  {
   "cell_type": "code",
   "execution_count": 117,
   "metadata": {},
   "outputs": [],
   "source": [
    "num_models = 20\n",
    "sample_size = 2000  # training set size.\n",
    "feature_sample_size = 200\n",
    "np.random.seed(0)\n",
    "\n",
    "all_models = []\n",
    "all_selected_features = []  # for each model, save the list of selected feature indexes.\n",
    "for m in range(num_models):\n",
    "    # TODO\n",
    "    # copy in your code from the bagging exercise here to sample with replacement from the training set. \n",
    "    # Each sample should contain sample_size data points chosen at random.\n",
    "    # Hint: look at the documentation for numpy.random.choice().\n",
    "    i = np.random.choice(28000, sample_size, replace=True)\n",
    "    X_train_sample = X_train[i]\n",
    "    y_train_sample = y_train[i]\n",
    "\n",
    "    # TODO\n",
    "    # create a decision tree classifier with limited features considered\n",
    "    # for each split\n",
    "    model = DecisionTreeClassifier(max_features=feature_sample_size).fit(X_train_sample,y_train_sample)\n",
    "    \n",
    "    # TODO\n",
    "    # copy in your code from the bagging exercise here to train a decision tree classifier on the random sample.\n",
    "    # Remember to train it only on the random sample of features.\n",
    "    \n",
    "    \n",
    "    all_models.append(model)"
   ]
  },
  {
   "cell_type": "markdown",
   "metadata": {},
   "source": [
    "### 3.2) Random Forest Prediction\n",
    "\n",
    "Use the `bagging_predict` function from Section 2.2 to generate predictions for the random forest and calculate the accuracy."
   ]
  },
  {
   "cell_type": "code",
   "execution_count": 118,
   "metadata": {},
   "outputs": [
    {
     "name": "stdout",
     "output_type": "stream",
     "text": [
      "Test set accuracy: 0.9134285714285715\n"
     ]
    }
   ],
   "source": [
    "prediction = bagging_predict(X_test, all_models)\n",
    "accuracy = np.count_nonzero(prediction==int64(y_test))/y_test.shape[0]\n",
    "print(\"Test set accuracy: {}\".format(accuracy))"
   ]
  },
  {
   "cell_type": "markdown",
   "metadata": {},
   "source": [
    "How does the performance of the random forest compare to bagging and the single model? Can you improve the performance by changing the hyperparameters?"
   ]
  },
  {
   "cell_type": "markdown",
   "metadata": {},
   "source": [
    "## 4) Boosting\n",
    "We can use a decision tree classifier as the base model for the ensemble method known as boosting. Boosting involves training base models in sequence to ensure that each base model addresses the weaknesses of the ensemble. Instead of training a new base model on a random sample, we weight the data points in the training set according to the performance of previous base models.\n",
    "\n",
    "AdaBoost (adaptive boosting) is a popular boosting method, where training examples that are misclassified by one of the base classifiers are given greater weight when used to train the next classifier in the sequence. Once all the classifiers have been trained, their predictions are then combined through a weighted majority voting scheme.\n",
    "\n",
    "The AdaBoost algorithm which you will implement is given below:\n",
    "1. Initialize the data weighting coefficients $w_n$ by setting $w_n^{(1)} = 1/N$ for $ n = 1,...,N$ where $N$ is the number of training examples\n",
    "2. For $m = 1,...,M$ models:\n",
    "    - Fit a classifier $y_m(x)$ to a subset of the training data by minimising the weighted error function (hint: specify the `sample_weight` when fitting the model using scikit-learn).\n",
    "    - Calculate the weighted error, $\\epsilon_m$, where $$\\epsilon_m = 1 - \\text{weighted_accuracy} = 1 - \\frac{\\sum_{n=1}^N{w_nI(y_m(x_n) = t_n)}}{\\sum_{n=1}^N{w_n}}$$\n",
    "    and $I$ is the indicator function that equals $1$ when the condition is true (hint: the computation for the weighted accuracy is done for you if `sample_weight` is specified when calling the [`score`](https://scikit-learn.org/stable/modules/generated/sklearn.tree.DecisionTreeClassifier.html#sklearn.tree.DecisionTreeClassifier.score) function).\n",
    "    - Calculate the model weighting coefficients, $\\alpha_m$, where\n",
    "    $$\\alpha_m = ln\\left(\\frac{1-\\epsilon_m}{\\epsilon_m}\\right)$$\n",
    "    - Update the data weighting coefficients\n",
    "    $$w_n^{(m+1)} = w_n^{(m)} exp(\\alpha_m \\space I(y_m(x_n) \\neq t_n))$$ where, again, $I$ is the indicator function.\n",
    "3. The final prediction is a weighted combination of the trained base classifiers weighted by $\\alpha_m$.\n",
    "    \n",
    "For more information on boosting, see Bishop section 14.3.\n",
    "\n",
    "### 4.1) Train an ensemble model using the AdaBoost algorithm"
   ]
  },
  {
   "cell_type": "code",
   "execution_count": 171,
   "metadata": {},
   "outputs": [],
   "source": [
    "num_models = 200 # number of base classifiers\n",
    "sample_size = 2000  # sample training set size.\n",
    "np.random.seed(0)\n",
    "\n",
    "# TODO\n",
    "# initialise the sample weights for all data points in the training set.\n",
    "sample_weights = np.full(sample_size, 1/sample_size)\n",
    "alphas = []\n",
    "all_models = []\n",
    "for m in range(num_models):\n",
    "    # TODO\n",
    "    # copy in your code from the bagging exercise here to sample with replacement from the training set. \n",
    "    # Each sample should contain sample_size data points chosen at random.\n",
    "    # Hint: look at the documentation for numpy.random.choice().\n",
    "    i = np.random.choice(28000, sample_size, replace=True)\n",
    "    X_train_sample = X_train[i]\n",
    "    y_train_sample = y_train[i]\n",
    "    \n",
    "    # TODO\n",
    "    # train a decision tree classifier on the weighted random sample.\n",
    "    # Consider setting the max_depth hyperparameter\n",
    "    # Hint: fit() takes an additional argument, 'sample_weight'.\n",
    "    model = DecisionTreeClassifier(max_depth=10).fit(X_train_sample,y_train_sample,sample_weight=sample_weights)\n",
    "    \n",
    "    # TODO\n",
    "    # compute the model error using weighted accuracy for the sampled training dataset\n",
    "    # Hint: score() score takes an additional argument, 'sample_weight'.\n",
    "    score = model.score(X_train_sample, y_train_sample, sample_weight=sample_weights)\n",
    "    \n",
    "    # TODO\n",
    "    # calculate alpha for the model and append alpha to alphas\n",
    "    e = 1-score\n",
    "    alpha = np.log((1-e)/e)\n",
    "    alphas.append(alpha)\n",
    "    \n",
    "    # TODO\n",
    "    # update the sample_weights for incorrect predictions using alpha\n",
    "    \n",
    "    sample_weights[y_train_sample != model.predict(X_train_sample)] *= np.exp(alpha)\n",
    "    \n",
    "    all_models.append(model)"
   ]
  },
  {
   "cell_type": "markdown",
   "metadata": {},
   "source": [
    "### 4.2) Adaboost prediction\n",
    "Complete the `boosting_predict` function to produce predictions from the trained models. In addition to the test data and the trained models, the function also takes the list of $\\alpha_m$ as an input which determines the weighting of each individual model on the overall output."
   ]
  },
  {
   "cell_type": "code",
   "execution_count": 172,
   "metadata": {},
   "outputs": [],
   "source": [
    "def boosting_predict(test_data, all_models, alphas):\n",
    "    votes = np.zeros((test_data.shape[0], len(all_models))) \n",
    "    combined_predictions = np.zeros(test_data.shape[0])\n",
    "\n",
    "    for idx, m in enumerate(all_models):\n",
    "        # TODO\n",
    "        # write your code here to obtain the predictions from model m and store it in votes.\n",
    "        votes[:,idx] = m.predict(test_data) \n",
    "    \n",
    "    for test_point in range(len(votes)):\n",
    "        # TODO\n",
    "        # determine the class with the most votes for each test point and store it in combined_predictions\n",
    "        # hint: remember the weighting alpha\n",
    "        combined_predictions[test_point] = np.argmax(np.bincount(int64(votes[test_point]), alphas))\n",
    "    \n",
    "    return combined_predictions"
   ]
  },
  {
   "cell_type": "code",
   "execution_count": 173,
   "metadata": {},
   "outputs": [
    {
     "name": "stdout",
     "output_type": "stream",
     "text": [
      "Test set accuracy: 0.9267142857142857\n"
     ]
    }
   ],
   "source": [
    "prediction = boosting_predict(X_test, all_models, alphas)\n",
    "accuracy = np.count_nonzero(prediction==int64(y_test))/y_test.shape[0]\n",
    "print(\"Test set accuracy: {}\".format(accuracy))"
   ]
  },
  {
   "cell_type": "markdown",
   "metadata": {},
   "source": [
    "How does performance compare with the other approaches?\n",
    "\n",
    "Try out different values of `sample_size`, `num_models` and `max_depth` of the decision tree.\n",
    "\n",
    "How does training time vary for each approach as you change these ensemble parameters? "
   ]
  },
  {
   "cell_type": "markdown",
   "metadata": {},
   "source": [
    "## Wrap up\n",
    "\n",
    "We trained and visualised a decision tree classifier, which showed how decision trees can provide an interpretable model for classification. We then implemented bagging to improve performance, then extended it to the Random Forest and Boosting methods. This should give some idea of how these three key ensemble methods are related to one another. Random Forest adds random sampling over features, while boosting re-weights the dataset at each iteration to focus on misclassified data points.\n",
    "\n",
    "### References\n",
    "- COMS30035 Machine Learning lecture notes.\n",
    "- Bishop Pattern Recognition and Machine Learning: Chapter 14.\n",
    "\n",
    "#### Materials used to create the lab\n",
    "- https://github.com/TrainingByPackt/Applied-Supervised-Learning-with-Python/blob/master/Chapter%204%20-%20Classification/Exercise%2042%20-%20Iris%20Classification%20Using%20a%20CART%20Decision%20Tree.ipynb\n",
    "- https://plsms.github.io/kaggle/learn/2%20Machine%20Learning/Level%201/11%20Exercise;%20Random%20Forests.html\n",
    "- https://towardsdatascience.com/how-to-visualize-a-decision-tree-from-a-random-forest-in-python-using-scikit-learn-38ad2d75f21c\n",
    "- https://www.kaggle.com/jmohitj/practicing-playing-with-mnist-decision-tree\n"
   ]
  }
 ],
 "metadata": {
  "kernelspec": {
   "display_name": "Python 3",
   "language": "python",
   "name": "python3"
  },
  "language_info": {
   "codemirror_mode": {
    "name": "ipython",
    "version": 3
   },
   "file_extension": ".py",
   "mimetype": "text/x-python",
   "name": "python",
   "nbconvert_exporter": "python",
   "pygments_lexer": "ipython3",
   "version": "3.7.6"
  }
 },
 "nbformat": 4,
 "nbformat_minor": 4
}
